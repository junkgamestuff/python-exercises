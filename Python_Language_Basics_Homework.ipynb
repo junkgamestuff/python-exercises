{
  "nbformat": 4,
  "nbformat_minor": 0,
  "metadata": {
    "colab": {
      "name": "Python Language Basics Homework.ipynb",
      "provenance": [],
      "collapsed_sections": [],
      "include_colab_link": true
    },
    "kernelspec": {
      "name": "python3",
      "display_name": "Python 3"
    }
  },
  "cells": [
    {
      "cell_type": "markdown",
      "metadata": {
        "id": "view-in-github",
        "colab_type": "text"
      },
      "source": [
        "<a href=\"https://colab.research.google.com/github/junkgamestuff/python-exercises/blob/master/Python_Language_Basics_Homework.ipynb\" target=\"_parent\"><img src=\"https://colab.research.google.com/assets/colab-badge.svg\" alt=\"Open In Colab\"/></a>"
      ]
    },
    {
      "cell_type": "markdown",
      "metadata": {
        "id": "lwWFEpxUETJ4",
        "colab_type": "text"
      },
      "source": [
        "## Variable and String"
      ]
    },
    {
      "cell_type": "markdown",
      "metadata": {
        "id": "Xfk4dXGCCTa9",
        "colab_type": "text"
      },
      "source": [
        "What is a variable?"
      ]
    },
    {
      "cell_type": "markdown",
      "metadata": {
        "id": "cqoPPI2MAHQ6",
        "colab_type": "text"
      },
      "source": [
        "An item, given a name, that is assigned a stored value to be used later in a program."
      ]
    },
    {
      "cell_type": "markdown",
      "metadata": {
        "id": "o5OXfVfjAYle",
        "colab_type": "text"
      },
      "source": [
        "Create three variables, one storing an int, another a string, and the last one of your full name"
      ]
    },
    {
      "cell_type": "code",
      "metadata": {
        "id": "Z4OhsNz4Aj8i",
        "colab_type": "code",
        "colab": {}
      },
      "source": [
        "# enter code here (remember this a comment and ignored when the code is ran)\n",
        "var1 = 5\n",
        "var2 = \"Hey how's it going?\"\n",
        "var3 = \"Michael Juarez\""
      ],
      "execution_count": null,
      "outputs": []
    },
    {
      "cell_type": "markdown",
      "metadata": {
        "id": "_i9gX3GhA34n",
        "colab_type": "text"
      },
      "source": [
        "Using the variable which contains your name above, what does name[1] return?"
      ]
    },
    {
      "cell_type": "code",
      "metadata": {
        "id": "kRBL_oBqBPCJ",
        "colab_type": "code",
        "colab": {
          "base_uri": "https://localhost:8080/",
          "height": 35
        },
        "outputId": "1688c45d-329c-4941-8265-20a89f555c5d"
      },
      "source": [
        "# enter code here\n",
        "var3[1]"
      ],
      "execution_count": null,
      "outputs": [
        {
          "output_type": "execute_result",
          "data": {
            "application/vnd.google.colaboratory.intrinsic": {
              "type": "string"
            },
            "text/plain": [
              "'i'"
            ]
          },
          "metadata": {
            "tags": []
          },
          "execution_count": 3
        }
      ]
    },
    {
      "cell_type": "markdown",
      "metadata": {
        "id": "AQfuYJpIBUnG",
        "colab_type": "text"
      },
      "source": [
        "What about name[-2]"
      ]
    },
    {
      "cell_type": "code",
      "metadata": {
        "id": "0PXV_5fX0GMR",
        "colab_type": "code",
        "colab": {
          "base_uri": "https://localhost:8080/",
          "height": 35
        },
        "outputId": "e28c8426-69ee-4dd0-cb80-50a30729c117"
      },
      "source": [
        "var3[-2]"
      ],
      "execution_count": null,
      "outputs": [
        {
          "output_type": "execute_result",
          "data": {
            "application/vnd.google.colaboratory.intrinsic": {
              "type": "string"
            },
            "text/plain": [
              "'e'"
            ]
          },
          "metadata": {
            "tags": []
          },
          "execution_count": 5
        }
      ]
    },
    {
      "cell_type": "markdown",
      "metadata": {
        "id": "a8NJzoZ0BYIX",
        "colab_type": "text"
      },
      "source": [
        "what about name[1:-1]"
      ]
    },
    {
      "cell_type": "code",
      "metadata": {
        "id": "iEfhh1WyBbva",
        "colab_type": "code",
        "colab": {
          "base_uri": "https://localhost:8080/",
          "height": 35
        },
        "outputId": "8170e67c-1bad-4563-801e-98e32d016ad1"
      },
      "source": [
        "var3[1:-1]"
      ],
      "execution_count": null,
      "outputs": [
        {
          "output_type": "execute_result",
          "data": {
            "application/vnd.google.colaboratory.intrinsic": {
              "type": "string"
            },
            "text/plain": [
              "'ichael Juare'"
            ]
          },
          "metadata": {
            "tags": []
          },
          "execution_count": 6
        }
      ]
    },
    {
      "cell_type": "markdown",
      "metadata": {
        "id": "lV_TBl7of2Mr",
        "colab_type": "text"
      },
      "source": [
        "See if you can reverse your name using slice notation"
      ]
    },
    {
      "cell_type": "code",
      "metadata": {
        "id": "E3KGzwjhf8M3",
        "colab_type": "code",
        "colab": {
          "base_uri": "https://localhost:8080/",
          "height": 35
        },
        "outputId": "b3d517ee-7ec3-4620-9a67-ae7dddf8f503"
      },
      "source": [
        "var3[::-1]"
      ],
      "execution_count": null,
      "outputs": [
        {
          "output_type": "execute_result",
          "data": {
            "application/vnd.google.colaboratory.intrinsic": {
              "type": "string"
            },
            "text/plain": [
              "'zerauJ leahciM'"
            ]
          },
          "metadata": {
            "tags": []
          },
          "execution_count": 7
        }
      ]
    },
    {
      "cell_type": "markdown",
      "metadata": {
        "id": "atPuCJfzBc_L",
        "colab_type": "text"
      },
      "source": [
        "The last three questions are known as indexing, which we will use a lot in this class.  "
      ]
    },
    {
      "cell_type": "markdown",
      "metadata": {
        "id": "UxVfD5jaB_7G",
        "colab_type": "text"
      },
      "source": [
        "How do you get and what is the length of name?  Hint: use the function len()"
      ]
    },
    {
      "cell_type": "code",
      "metadata": {
        "id": "TppWUz5bCGqd",
        "colab_type": "code",
        "colab": {
          "base_uri": "https://localhost:8080/",
          "height": 34
        },
        "outputId": "535e6faf-8618-4e42-83ff-e7d5a033e64a"
      },
      "source": [
        "len(var3)"
      ],
      "execution_count": null,
      "outputs": [
        {
          "output_type": "execute_result",
          "data": {
            "text/plain": [
              "14"
            ]
          },
          "metadata": {
            "tags": []
          },
          "execution_count": 15
        }
      ]
    },
    {
      "cell_type": "markdown",
      "metadata": {
        "id": "C1-MhapuD_E_",
        "colab_type": "text"
      },
      "source": [
        "What is the main difference between attributes and methods for a data type? Hint: Google is your friend  "
      ]
    },
    {
      "cell_type": "markdown",
      "metadata": {
        "id": "4fV7jD_rEKEu",
        "colab_type": "text"
      },
      "source": [
        "An attribute is a value, a method is a function."
      ]
    },
    {
      "cell_type": "markdown",
      "metadata": {
        "id": "IBY8LzoOCgNm",
        "colab_type": "text"
      },
      "source": [
        "What is the difference between 10 / 3 and 10 // 3?"
      ]
    },
    {
      "cell_type": "code",
      "metadata": {
        "id": "3aOTR76dpBKy",
        "colab_type": "code",
        "colab": {
          "base_uri": "https://localhost:8080/",
          "height": 34
        },
        "outputId": "8517aab1-faa6-4897-d2d8-21579caee4cf"
      },
      "source": [
        "10/3"
      ],
      "execution_count": null,
      "outputs": [
        {
          "output_type": "execute_result",
          "data": {
            "text/plain": [
              "3.3333333333333335"
            ]
          },
          "metadata": {
            "tags": []
          },
          "execution_count": 35
        }
      ]
    },
    {
      "cell_type": "code",
      "metadata": {
        "id": "v73gprXbrZTj",
        "colab_type": "code",
        "colab": {
          "base_uri": "https://localhost:8080/",
          "height": 34
        },
        "outputId": "1d1c28f5-45c8-4fdb-fd90-2c68d06a6c6c"
      },
      "source": [
        "type(10/3)"
      ],
      "execution_count": null,
      "outputs": [
        {
          "output_type": "execute_result",
          "data": {
            "text/plain": [
              "float"
            ]
          },
          "metadata": {
            "tags": []
          },
          "execution_count": 36
        }
      ]
    },
    {
      "cell_type": "code",
      "metadata": {
        "id": "i0xWOucjpDNv",
        "colab_type": "code",
        "colab": {
          "base_uri": "https://localhost:8080/",
          "height": 34
        },
        "outputId": "02cb8c51-801d-4e29-eb5e-6101610081f9"
      },
      "source": [
        "10//3"
      ],
      "execution_count": null,
      "outputs": [
        {
          "output_type": "execute_result",
          "data": {
            "text/plain": [
              "3"
            ]
          },
          "metadata": {
            "tags": []
          },
          "execution_count": 34
        }
      ]
    },
    {
      "cell_type": "code",
      "metadata": {
        "id": "5N4kn5jhrcDX",
        "colab_type": "code",
        "colab": {
          "base_uri": "https://localhost:8080/",
          "height": 34
        },
        "outputId": "9fd84f93-4d90-43bb-d703-825ee0224904"
      },
      "source": [
        "type(10//3)"
      ],
      "execution_count": null,
      "outputs": [
        {
          "output_type": "execute_result",
          "data": {
            "text/plain": [
              "int"
            ]
          },
          "metadata": {
            "tags": []
          },
          "execution_count": 37
        }
      ]
    },
    {
      "cell_type": "markdown",
      "metadata": {
        "id": "_ZckZ0tFCkrm",
        "colab_type": "text"
      },
      "source": [
        "10/3 results in a float numeric type. 10//3 results in an int numeric type.\n"
      ]
    },
    {
      "cell_type": "markdown",
      "metadata": {
        "id": "p19_NOfjCrX5",
        "colab_type": "text"
      },
      "source": [
        "What is the result of 10 ** 3?"
      ]
    },
    {
      "cell_type": "code",
      "metadata": {
        "id": "inek2mVUCuvx",
        "colab_type": "code",
        "colab": {
          "base_uri": "https://localhost:8080/",
          "height": 34
        },
        "outputId": "b0a6e1c2-7dc9-476b-debe-81ca68f2a68f"
      },
      "source": [
        "10**3"
      ],
      "execution_count": null,
      "outputs": [
        {
          "output_type": "execute_result",
          "data": {
            "text/plain": [
              "1000"
            ]
          },
          "metadata": {
            "tags": []
          },
          "execution_count": 18
        }
      ]
    },
    {
      "cell_type": "markdown",
      "metadata": {
        "id": "B9JF6927CvIB",
        "colab_type": "text"
      },
      "source": [
        "Create a variable x = 1\n",
        "What will be the value of after you run x += 2?"
      ]
    },
    {
      "cell_type": "code",
      "metadata": {
        "id": "1AJrpkc_C3TW",
        "colab_type": "code",
        "colab": {
          "base_uri": "https://localhost:8080/",
          "height": 34
        },
        "outputId": "a1dfadf7-60f2-4f8b-a87a-6113d025a12a"
      },
      "source": [
        "x = 1\n",
        "x += 2\n",
        "x"
      ],
      "execution_count": 3,
      "outputs": [
        {
          "output_type": "execute_result",
          "data": {
            "text/plain": [
              "3"
            ]
          },
          "metadata": {
            "tags": []
          },
          "execution_count": 3
        }
      ]
    },
    {
      "cell_type": "markdown",
      "metadata": {
        "id": "Yv48dTf3C4k0",
        "colab_type": "text"
      },
      "source": [
        "What is the result of float(1)?"
      ]
    },
    {
      "cell_type": "code",
      "metadata": {
        "id": "ZMfCeRFeC-GB",
        "colab_type": "code",
        "colab": {
          "base_uri": "https://localhost:8080/",
          "height": 34
        },
        "outputId": "3db7fc68-6294-485e-faf2-5721abdeacca"
      },
      "source": [
        "float(1)"
      ],
      "execution_count": null,
      "outputs": [
        {
          "output_type": "execute_result",
          "data": {
            "text/plain": [
              "1.0"
            ]
          },
          "metadata": {
            "tags": []
          },
          "execution_count": 24
        }
      ]
    },
    {
      "cell_type": "markdown",
      "metadata": {
        "id": "FGJLtZQBC-dE",
        "colab_type": "text"
      },
      "source": [
        "What is the result of bool(\"False\")? Why is the result the way it is?"
      ]
    },
    {
      "cell_type": "code",
      "metadata": {
        "id": "WHoG5xDqDGLm",
        "colab_type": "code",
        "colab": {
          "base_uri": "https://localhost:8080/",
          "height": 34
        },
        "outputId": "4f06f303-ee95-4416-c92c-5833d948a64c"
      },
      "source": [
        "bool(\"False\")"
      ],
      "execution_count": null,
      "outputs": [
        {
          "output_type": "execute_result",
          "data": {
            "text/plain": [
              "True"
            ]
          },
          "metadata": {
            "tags": []
          },
          "execution_count": 30
        }
      ]
    },
    {
      "cell_type": "markdown",
      "metadata": {
        "id": "BnfDBV6eqhEU",
        "colab_type": "text"
      },
      "source": [
        "The result is the way it is because a value is set and therefore is true. If bool were set to empty or blank, the boolean value would be false."
      ]
    },
    {
      "cell_type": "code",
      "metadata": {
        "id": "D_6XQggWBWle",
        "colab_type": "code",
        "colab": {
          "base_uri": "https://localhost:8080/",
          "height": 34
        },
        "outputId": "37d93872-df40-4516-c8f6-16b4a03d9062"
      },
      "source": [
        "bool()"
      ],
      "execution_count": 6,
      "outputs": [
        {
          "output_type": "execute_result",
          "data": {
            "text/plain": [
              "False"
            ]
          },
          "metadata": {
            "tags": []
          },
          "execution_count": 6
        }
      ]
    },
    {
      "cell_type": "markdown",
      "metadata": {
        "id": "zLT1Zmo3DGUx",
        "colab_type": "text"
      },
      "source": [
        "What is the result of 10 == \"10\"?  Why is the result the way it is?"
      ]
    },
    {
      "cell_type": "code",
      "metadata": {
        "id": "lCUws6fpDRlQ",
        "colab_type": "code",
        "colab": {
          "base_uri": "https://localhost:8080/",
          "height": 34
        },
        "outputId": "6eb9f2d2-ead0-4bbe-8fcf-4ae4099d2482"
      },
      "source": [
        "10 == \"10\""
      ],
      "execution_count": null,
      "outputs": [
        {
          "output_type": "execute_result",
          "data": {
            "text/plain": [
              "False"
            ]
          },
          "metadata": {
            "tags": []
          },
          "execution_count": 31
        }
      ]
    },
    {
      "cell_type": "code",
      "metadata": {
        "id": "QX1AH_u_BweH",
        "colab_type": "code",
        "colab": {
          "base_uri": "https://localhost:8080/",
          "height": 34
        },
        "outputId": "20a658ab-801e-4c4c-ee41-886fd53c055c"
      },
      "source": [
        "type(10==\"10\")"
      ],
      "execution_count": 7,
      "outputs": [
        {
          "output_type": "execute_result",
          "data": {
            "text/plain": [
              "bool"
            ]
          },
          "metadata": {
            "tags": []
          },
          "execution_count": 7
        }
      ]
    },
    {
      "cell_type": "markdown",
      "metadata": {
        "id": "2YSt_kd0q5Sm",
        "colab_type": "text"
      },
      "source": [
        "The result is the way it is because the \"==\" operator is attempting to compare different data types, one a numeric int, the other a string. Because the two are not equal data types, the result is a boolean type. \n",
        "\n",
        "\n"
      ]
    },
    {
      "cell_type": "markdown",
      "metadata": {
        "id": "I2genlhZDRw_",
        "colab_type": "text"
      },
      "source": [
        "What is the result of \"bag\" > \"apple\"?  Why is the result the way it is?"
      ]
    },
    {
      "cell_type": "code",
      "metadata": {
        "id": "0uSjGs8iDXFy",
        "colab_type": "code",
        "colab": {
          "base_uri": "https://localhost:8080/",
          "height": 34
        },
        "outputId": "8009e9f7-a102-4f48-97e9-e02b2b3844ef"
      },
      "source": [
        "\"bag\" > \"apple\""
      ],
      "execution_count": null,
      "outputs": [
        {
          "output_type": "execute_result",
          "data": {
            "text/plain": [
              "True"
            ]
          },
          "metadata": {
            "tags": []
          },
          "execution_count": 52
        }
      ]
    },
    {
      "cell_type": "code",
      "metadata": {
        "id": "lkBrm2XptAqb",
        "colab_type": "code",
        "colab": {
          "base_uri": "https://localhost:8080/",
          "height": 34
        },
        "outputId": "7962053b-ee9f-4a23-b7cb-203c8c2f536f"
      },
      "source": [
        "ord(\"b\")"
      ],
      "execution_count": null,
      "outputs": [
        {
          "output_type": "execute_result",
          "data": {
            "text/plain": [
              "98"
            ]
          },
          "metadata": {
            "tags": []
          },
          "execution_count": 62
        }
      ]
    },
    {
      "cell_type": "code",
      "metadata": {
        "id": "UgbhfMnptQqp",
        "colab_type": "code",
        "colab": {
          "base_uri": "https://localhost:8080/",
          "height": 34
        },
        "outputId": "e77f0ecb-38e4-46c6-f9a5-68f0114165b4"
      },
      "source": [
        "ord(\"a\")"
      ],
      "execution_count": null,
      "outputs": [
        {
          "output_type": "execute_result",
          "data": {
            "text/plain": [
              "97"
            ]
          },
          "metadata": {
            "tags": []
          },
          "execution_count": 63
        }
      ]
    },
    {
      "cell_type": "markdown",
      "metadata": {
        "id": "vseTCs29uEw_",
        "colab_type": "text"
      },
      "source": [
        "The unicode value of b is higher than the unicode value of a, so \"bag\" is greater than \"apple\"."
      ]
    },
    {
      "cell_type": "markdown",
      "metadata": {
        "id": "rTRW8X_bDXPs",
        "colab_type": "text"
      },
      "source": [
        "Under what circumstances does the expression 18 <= age < 65 evaluate to True?"
      ]
    },
    {
      "cell_type": "code",
      "metadata": {
        "id": "IWyuCwO-pW3A",
        "colab_type": "code",
        "colab": {
          "base_uri": "https://localhost:8080/",
          "height": 34
        },
        "outputId": "09b6d4b7-7aab-4c70-ce8d-886fe71ca021"
      },
      "source": [
        "18 <= 18 < 65 "
      ],
      "execution_count": null,
      "outputs": [
        {
          "output_type": "execute_result",
          "data": {
            "text/plain": [
              "True"
            ]
          },
          "metadata": {
            "tags": []
          },
          "execution_count": 70
        }
      ]
    },
    {
      "cell_type": "markdown",
      "metadata": {
        "id": "rqJHpkHRDnyV",
        "colab_type": "text"
      },
      "source": [
        "What does range(1, 10, 2) return?"
      ]
    },
    {
      "cell_type": "code",
      "metadata": {
        "id": "io6_1VE2DsBe",
        "colab_type": "code",
        "colab": {
          "base_uri": "https://localhost:8080/",
          "height": 34
        },
        "outputId": "25862551-e610-4f29-fe32-32d0750f8d2d"
      },
      "source": [
        "r = range(1,10,2)\n",
        "r"
      ],
      "execution_count": 18,
      "outputs": [
        {
          "output_type": "execute_result",
          "data": {
            "text/plain": [
              "range(1, 10, 2)"
            ]
          },
          "metadata": {
            "tags": []
          },
          "execution_count": 18
        }
      ]
    },
    {
      "cell_type": "code",
      "metadata": {
        "id": "6cJWP53aCIAR",
        "colab_type": "code",
        "colab": {
          "base_uri": "https://localhost:8080/",
          "height": 102
        },
        "outputId": "6b64ffdf-4bc4-464e-a556-e504f8c37293"
      },
      "source": [
        "for n in r:\n",
        "  print(n)"
      ],
      "execution_count": 19,
      "outputs": [
        {
          "output_type": "stream",
          "text": [
            "1\n",
            "3\n",
            "5\n",
            "7\n",
            "9\n"
          ],
          "name": "stdout"
        }
      ]
    },
    {
      "cell_type": "code",
      "metadata": {
        "id": "RTXdCFxWB94B",
        "colab_type": "code",
        "colab": {
          "base_uri": "https://localhost:8080/",
          "height": 34
        },
        "outputId": "20db0dd5-3783-4915-b0ea-a06ac462b727"
      },
      "source": [
        "type(r)"
      ],
      "execution_count": 10,
      "outputs": [
        {
          "output_type": "execute_result",
          "data": {
            "text/plain": [
              "range"
            ]
          },
          "metadata": {
            "tags": []
          },
          "execution_count": 10
        }
      ]
    },
    {
      "cell_type": "markdown",
      "metadata": {
        "id": "g25vCIoYFngL",
        "colab_type": "text"
      },
      "source": [
        "### Mutable and immutable objects\n",
        "\n",
        "What is the difference between mutable and immutable objects?\n"
      ]
    },
    {
      "cell_type": "markdown",
      "metadata": {
        "id": "fLsHXujKEilq",
        "colab_type": "text"
      },
      "source": [
        "Mutable objects can be changed by manipulation, immutable objects cannot be changed by manipulation."
      ]
    },
    {
      "cell_type": "markdown",
      "metadata": {
        "id": "RZZSbkC1Ei8k",
        "colab_type": "text"
      },
      "source": [
        "What data types are mutable and which ones are immutable"
      ]
    },
    {
      "cell_type": "markdown",
      "metadata": {
        "id": "aqFFaqhQEoAd",
        "colab_type": "text"
      },
      "source": [
        "Lists are mutable, strings are immutable"
      ]
    },
    {
      "cell_type": "markdown",
      "metadata": {
        "id": "05LwP68MEsl3",
        "colab_type": "text"
      },
      "source": [
        "Create a variable that stores a list"
      ]
    },
    {
      "cell_type": "code",
      "metadata": {
        "id": "AqtO-JnUE6YI",
        "colab_type": "code",
        "colab": {
          "base_uri": "https://localhost:8080/",
          "height": 34
        },
        "outputId": "a96b3266-6661-427b-917b-089cc7e4bd63"
      },
      "source": [
        "var4 = [1,2,3,4,5]\n",
        "type(var4)"
      ],
      "execution_count": 21,
      "outputs": [
        {
          "output_type": "execute_result",
          "data": {
            "text/plain": [
              "list"
            ]
          },
          "metadata": {
            "tags": []
          },
          "execution_count": 21
        }
      ]
    },
    {
      "cell_type": "markdown",
      "metadata": {
        "id": "36Mwy6VfEv8Z",
        "colab_type": "text"
      },
      "source": [
        "Now change the value of the first element above"
      ]
    },
    {
      "cell_type": "code",
      "metadata": {
        "id": "I-D2jukTE6_Q",
        "colab_type": "code",
        "colab": {
          "base_uri": "https://localhost:8080/",
          "height": 34
        },
        "outputId": "fd474d14-c44e-4163-be3f-093783bb4557"
      },
      "source": [
        "var4[0] = 222\n",
        "print(var4)"
      ],
      "execution_count": 22,
      "outputs": [
        {
          "output_type": "stream",
          "text": [
            "[222, 2, 3, 4, 5]\n"
          ],
          "name": "stdout"
        }
      ]
    },
    {
      "cell_type": "markdown",
      "metadata": {
        "id": "luztzVgSgcOg",
        "colab_type": "text"
      },
      "source": [
        "Now change the list to an empty list"
      ]
    },
    {
      "cell_type": "code",
      "metadata": {
        "id": "ed2QaofngbyV",
        "colab_type": "code",
        "colab": {
          "base_uri": "https://localhost:8080/",
          "height": 34
        },
        "outputId": "ef9024b3-25dc-4904-fb6d-8fa332ed31e7"
      },
      "source": [
        "var4[:]=\"\"\n",
        "print(var4)"
      ],
      "execution_count": 23,
      "outputs": [
        {
          "output_type": "stream",
          "text": [
            "[]\n"
          ],
          "name": "stdout"
        }
      ]
    },
    {
      "cell_type": "code",
      "metadata": {
        "id": "pVgd58_uwJj8",
        "colab_type": "code",
        "colab": {
          "base_uri": "https://localhost:8080/",
          "height": 34
        },
        "outputId": "474f941b-3d0e-4801-8e5f-0c6f2766b18c"
      },
      "source": [
        "type(var4)"
      ],
      "execution_count": 24,
      "outputs": [
        {
          "output_type": "execute_result",
          "data": {
            "text/plain": [
              "list"
            ]
          },
          "metadata": {
            "tags": []
          },
          "execution_count": 24
        }
      ]
    },
    {
      "cell_type": "markdown",
      "metadata": {
        "id": "O057Xozoghp4",
        "colab_type": "text"
      },
      "source": [
        "With the empty list, populate it with any values to make it a length of 10"
      ]
    },
    {
      "cell_type": "code",
      "metadata": {
        "colab_type": "code",
        "id": "i16fMMzYF6k0",
        "colab": {
          "base_uri": "https://localhost:8080/",
          "height": 34
        },
        "outputId": "6606cb04-fc44-44a3-f3f7-1eb9b5da82d0"
      },
      "source": [
        "var4 = []\n",
        "for i in range(10):\n",
        "  var4.append(i)\n",
        "print(var4)"
      ],
      "execution_count": 25,
      "outputs": [
        {
          "output_type": "stream",
          "text": [
            "[0, 1, 2, 3, 4, 5, 6, 7, 8, 9]\n"
          ],
          "name": "stdout"
        }
      ]
    },
    {
      "cell_type": "code",
      "metadata": {
        "id": "I8Kku03hzDFw",
        "colab_type": "code",
        "colab": {
          "base_uri": "https://localhost:8080/",
          "height": 34
        },
        "outputId": "7049ae43-d608-49a9-e5f2-db5bc5b0f402"
      },
      "source": [
        "len(var4)"
      ],
      "execution_count": 26,
      "outputs": [
        {
          "output_type": "execute_result",
          "data": {
            "text/plain": [
              "10"
            ]
          },
          "metadata": {
            "tags": []
          },
          "execution_count": 26
        }
      ]
    },
    {
      "cell_type": "markdown",
      "metadata": {
        "id": "268kY4bxgwVt",
        "colab_type": "text"
      },
      "source": [
        "Now take a slice of the above list and save it to another variable (can be whatever positions you want)"
      ]
    },
    {
      "cell_type": "code",
      "metadata": {
        "id": "7mmtN-IRGIgV",
        "colab_type": "code",
        "colab": {
          "base_uri": "https://localhost:8080/",
          "height": 34
        },
        "outputId": "c895a4c4-9c74-49db-c652-a4c664553cf2"
      },
      "source": [
        "var5 = var4[-6:-3]\n",
        "print(var5)"
      ],
      "execution_count": 27,
      "outputs": [
        {
          "output_type": "stream",
          "text": [
            "[4, 5, 6]\n"
          ],
          "name": "stdout"
        }
      ]
    },
    {
      "cell_type": "markdown",
      "metadata": {
        "id": "rRij3FBKg7SO",
        "colab_type": "text"
      },
      "source": [
        "Take this new list and concatenate it with the list above it"
      ]
    },
    {
      "cell_type": "code",
      "metadata": {
        "id": "E2EDB9r01wbW",
        "colab_type": "code",
        "colab": {
          "base_uri": "https://localhost:8080/",
          "height": 34
        },
        "outputId": "aabef64b-ce70-401a-e28d-6f734d71b5d9"
      },
      "source": [
        "var4 + var5"
      ],
      "execution_count": 28,
      "outputs": [
        {
          "output_type": "execute_result",
          "data": {
            "text/plain": [
              "[0, 1, 2, 3, 4, 5, 6, 7, 8, 9, 4, 5, 6]"
            ]
          },
          "metadata": {
            "tags": []
          },
          "execution_count": 28
        }
      ]
    }
  ]
}